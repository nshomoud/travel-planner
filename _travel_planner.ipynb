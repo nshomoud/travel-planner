{
  "nbformat": 4,
  "nbformat_minor": 0,
  "metadata": {
    "colab": {
      "provenance": [],
      "authorship_tag": "ABX9TyMgdzIUqAfP3FrhaQxmpcrl",
      "include_colab_link": true
    },
    "kernelspec": {
      "name": "python3",
      "display_name": "Python 3"
    },
    "language_info": {
      "name": "python"
    }
  },
  "cells": [
    {
      "cell_type": "markdown",
      "metadata": {
        "id": "view-in-github",
        "colab_type": "text"
      },
      "source": [
        "<a href=\"https://colab.research.google.com/github/nshomoud/travel-planner/blob/main/_travel_planner.ipynb\" target=\"_parent\"><img src=\"https://colab.research.google.com/assets/colab-badge.svg\" alt=\"Open In Colab\"/></a>"
      ]
    },
    {
      "cell_type": "code",
      "source": [
        "!git remote add origin https://github.com/nshomoud/travel-planner.git\n",
        "!git branch -M main\n",
        "!git push -u origin main\n",
        "\n",
        "# Install necessary packages\n",
        "!pip install flask pandas requests\n",
        "\n",
        "# Import required libraries\n",
        "from flask import Flask, request, jsonify\n",
        "import pandas as pd\n",
        "import threading\n",
        "import requests\n",
        "\n",
        "# Load and preprocess the dataset\n",
        "file_path = '/content/Travel_details_dataset.csv'\n",
        "df = pd.read_csv(file_path)\n",
        "df['Traveler nationality'] = df['Traveler nationality'].str.lower()\n",
        "df['Destination'] = df['Destination'].str.lower()\n",
        "df['Accommodation type'] = df['Accommodation type'].str.lower()\n",
        "\n",
        "app = Flask(__name__)\n",
        "\n",
        "def recommend_destinations(nationality, min_duration):\n",
        "    recommendations = df[(df['Traveler nationality'] == nationality) &\n",
        "                         (df['Duration (days)'] >= min_duration)]\n",
        "    if not recommendations.empty:\n",
        "        return recommendations[['Destination', 'Duration (days)']].to_dict(orient='records')\n",
        "    return []\n",
        "\n",
        "def recommend_accommodations(destination, accommodation_type):\n",
        "    accommodations = df[(df['Destination'] == destination) &\n",
        "                        (df['Accommodation type'] == accommodation_type)]\n",
        "    if not accommodations.empty:\n",
        "        return accommodations[['Accommodation type', 'Accommodation cost']].to_dict(orient='records')\n",
        "    return []\n",
        "\n",
        "@app.route('/travel_planner', methods=['POST'])\n",
        "def travel_planner():\n",
        "    data = request.get_json()\n",
        "    request_type = data.get('request_type', '').lower()\n",
        "\n",
        "    if request_type == 'destination':\n",
        "        nationality = data.get('nationality', '').lower()\n",
        "        min_duration = data.get('min_duration', 0)\n",
        "        recommendations = recommend_destinations(nationality, min_duration)\n",
        "        if recommendations:\n",
        "            return jsonify({\n",
        "                \"request_type\": \"destination\",\n",
        "                \"nationality\": nationality,\n",
        "                \"min_duration\": min_duration,\n",
        "                \"recommendations\": recommendations\n",
        "            })\n",
        "        return jsonify({\"message\": \"No destinations found for your criteria.\"})\n",
        "\n",
        "    elif request_type == 'accommodation':\n",
        "        destination = data.get('destination', '').lower()\n",
        "        accommodation_type = data.get('accommodation_type', '').lower()\n",
        "        recommendations = recommend_accommodations(destination, accommodation_type)\n",
        "        if recommendations:\n",
        "            return jsonify({\n",
        "                \"request_type\": \"accommodation\",\n",
        "                \"destination\": destination,\n",
        "                \"accommodation_type\": accommodation_type,\n",
        "                \"recommendations\": recommendations\n",
        "            })\n",
        "        return jsonify({\"message\": f\"No accommodations of type '{accommodation_type}' found for {destination}.\"})\n",
        "\n",
        "    return jsonify({\"message\": \"Invalid request. Please specify 'destination' or 'accommodation' along with appropriate parameters.\"})\n",
        "\n",
        "def run_app():\n",
        "    app.run(port=5000)\n",
        "\n",
        "# Run Flask app in a separate thread\n",
        "threading.Thread(target=run_app).start()\n",
        "\n",
        "# Simulate user queries\n",
        "import time\n",
        "time.sleep(3)  # Wait for the server to start\n",
        "\n",
        "# Function to format and print recommendations\n",
        "def print_recommendations(response_json):\n",
        "    if \"recommendations\" in response_json:\n",
        "        print(\"\\nRecommendations:\")\n",
        "        for item in response_json[\"recommendations\"]:\n",
        "            print(f\"- {', '.join([f'{k}: {v}' for k, v in item.items()])}\")\n",
        "    else:\n",
        "        print(\"\\n\", response_json.get(\"message\", \"No recommendations found.\"))\n",
        "\n",
        "# Loop to continue asking for new recommendations\n",
        "while True:\n",
        "    # Example user input for destination recommendation\n",
        "    nationality = input(\"Enter your nationality: \").lower()\n",
        "    min_duration = int(input(\"Enter minimum duration of trip (in days): \"))\n",
        "\n",
        "    data = {\n",
        "        \"request_type\": \"destination\",\n",
        "        \"nationality\": nationality,\n",
        "        \"min_duration\": min_duration\n",
        "    }\n",
        "\n",
        "    response = requests.post('http://127.0.0.1:5000/travel_planner', json=data)\n",
        "    print(\"Destination Recommendations:\")\n",
        "    print_recommendations(response.json())\n",
        "\n",
        "    # Example user input for accommodation recommendation\n",
        "    destination = input(\"Enter your destination: \").lower()\n",
        "    accommodation_type = input(\"Enter preferred type of accommodation (e.g., hotel, airbnb): \").lower()\n",
        "\n",
        "    data = {\n",
        "        \"request_type\": \"accommodation\",\n",
        "        \"destination\": destination,\n",
        "        \"accommodation_type\": accommodation_type\n",
        "    }\n",
        "\n",
        "    response = requests.post('http://127.0.0.1:5000/travel_planner', json=data)\n",
        "    print(\"Accommodation Recommendations:\")\n",
        "    print_recommendations(response.json())\n",
        "\n",
        "    # Ask the user if they want another recommendation\n",
        "    another_recommendation = input(\"\\nWould you like another recommendation? (yes/no): \").lower()\n",
        "    if another_recommendation != 'yes':\n",
        "        print(\"Exiting the program. Goodbye!\")\n",
        "        break\n"
      ],
      "metadata": {
        "colab": {
          "base_uri": "https://localhost:8080/"
        },
        "id": "SFDgO6KnE0bt",
        "outputId": "f83a5a4f-8876-4bd4-a136-0eab63517309"
      },
      "execution_count": null,
      "outputs": [
        {
          "output_type": "stream",
          "name": "stdout",
          "text": [
            "fatal: not a git repository (or any of the parent directories): .git\n",
            "fatal: not a git repository (or any of the parent directories): .git\n",
            "fatal: not a git repository (or any of the parent directories): .git\n",
            "Requirement already satisfied: flask in /usr/local/lib/python3.10/dist-packages (2.2.5)\n",
            "Requirement already satisfied: pandas in /usr/local/lib/python3.10/dist-packages (2.2.2)\n",
            "Requirement already satisfied: requests in /usr/local/lib/python3.10/dist-packages (2.32.3)\n",
            "Requirement already satisfied: Werkzeug>=2.2.2 in /usr/local/lib/python3.10/dist-packages (from flask) (3.0.4)\n",
            "Requirement already satisfied: Jinja2>=3.0 in /usr/local/lib/python3.10/dist-packages (from flask) (3.1.4)\n",
            "Requirement already satisfied: itsdangerous>=2.0 in /usr/local/lib/python3.10/dist-packages (from flask) (2.2.0)\n",
            "Requirement already satisfied: click>=8.0 in /usr/local/lib/python3.10/dist-packages (from flask) (8.1.7)\n",
            "Requirement already satisfied: numpy>=1.22.4 in /usr/local/lib/python3.10/dist-packages (from pandas) (1.26.4)\n",
            "Requirement already satisfied: python-dateutil>=2.8.2 in /usr/local/lib/python3.10/dist-packages (from pandas) (2.8.2)\n",
            "Requirement already satisfied: pytz>=2020.1 in /usr/local/lib/python3.10/dist-packages (from pandas) (2024.2)\n",
            "Requirement already satisfied: tzdata>=2022.7 in /usr/local/lib/python3.10/dist-packages (from pandas) (2024.2)\n",
            "Requirement already satisfied: charset-normalizer<4,>=2 in /usr/local/lib/python3.10/dist-packages (from requests) (3.3.2)\n",
            "Requirement already satisfied: idna<4,>=2.5 in /usr/local/lib/python3.10/dist-packages (from requests) (3.10)\n",
            "Requirement already satisfied: urllib3<3,>=1.21.1 in /usr/local/lib/python3.10/dist-packages (from requests) (2.2.3)\n",
            "Requirement already satisfied: certifi>=2017.4.17 in /usr/local/lib/python3.10/dist-packages (from requests) (2024.8.30)\n",
            "Requirement already satisfied: MarkupSafe>=2.0 in /usr/local/lib/python3.10/dist-packages (from Jinja2>=3.0->flask) (2.1.5)\n",
            "Requirement already satisfied: six>=1.5 in /usr/local/lib/python3.10/dist-packages (from python-dateutil>=2.8.2->pandas) (1.16.0)\n",
            " * Serving Flask app '__main__'\n",
            " * Debug mode: off\n"
          ]
        },
        {
          "output_type": "stream",
          "name": "stderr",
          "text": [
            "INFO:werkzeug:\u001b[31m\u001b[1mWARNING: This is a development server. Do not use it in a production deployment. Use a production WSGI server instead.\u001b[0m\n",
            " * Running on http://127.0.0.1:5000\n",
            "INFO:werkzeug:\u001b[33mPress CTRL+C to quit\u001b[0m\n"
          ]
        },
        {
          "name": "stdout",
          "output_type": "stream",
          "text": [
            "Enter your nationality: british\n",
            "Enter minimum duration of trip (in days): 6\n"
          ]
        },
        {
          "output_type": "stream",
          "name": "stderr",
          "text": [
            "INFO:werkzeug:127.0.0.1 - - [10/Oct/2024 12:21:56] \"POST /travel_planner HTTP/1.1\" 200 -\n"
          ]
        },
        {
          "name": "stdout",
          "output_type": "stream",
          "text": [
            "Destination Recommendations:\n",
            "\n",
            "Recommendations:\n",
            "- Destination: new york, usa, Duration (days): 14.0\n",
            "- Destination: london, Duration (days): 6.0\n",
            "- Destination: australia, Duration (days): 13.0\n",
            "- Destination: mexico, Duration (days): 10.0\n",
            "- Destination: london, uk, Duration (days): 7.0\n",
            "- Destination: london, uk, Duration (days): 8.0\n",
            "- Destination: cape town, Duration (days): 9.0\n",
            "- Destination: bali, Duration (days): 8.0\n",
            "- Destination: paris, france, Duration (days): 7.0\n",
            "- Destination: phuket, thai, Duration (days): 7.0\n",
            "- Destination: london, Duration (days): 11.0\n",
            "- Destination: tokyo, japan, Duration (days): 7.0\n",
            "Enter your destination: london\n",
            "Enter preferred type of accommodation (e.g., hotel, airbnb): hotel\n"
          ]
        },
        {
          "output_type": "stream",
          "name": "stderr",
          "text": [
            "INFO:werkzeug:127.0.0.1 - - [10/Oct/2024 12:22:05] \"POST /travel_planner HTTP/1.1\" 200 -\n"
          ]
        },
        {
          "output_type": "stream",
          "name": "stdout",
          "text": [
            "Accommodation Recommendations:\n",
            "\n",
            "Recommendations:\n",
            "- Accommodation cost: $1,200 , Accommodation type: hotel\n",
            "- Accommodation cost: $600 , Accommodation type: hotel\n",
            "- Accommodation cost: 900, Accommodation type: hotel\n"
          ]
        }
      ]
    }
  ]
}